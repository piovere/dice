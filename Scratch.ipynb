{
 "cells": [
  {
   "cell_type": "code",
   "execution_count": 1,
   "metadata": {
    "collapsed": true
   },
   "outputs": [],
   "source": [
    "%matplotlib inline\n",
    "import matplotlib.pyplot as plt\n",
    "import random"
   ]
  },
  {
   "cell_type": "code",
   "execution_count": 58,
   "metadata": {
    "collapsed": true
   },
   "outputs": [],
   "source": [
    "def dice(instr):\n",
    "    r = instr.split(\"+\")\n",
    "    print(r)\n",
    "    return(sum([roll(s) for s in r]))"
   ]
  },
  {
   "cell_type": "code",
   "execution_count": 3,
   "metadata": {
    "collapsed": true
   },
   "outputs": [],
   "source": [
    "test_string_list = [\n",
    "    \"2d6\",\n",
    "    \"3d8\",\n",
    "    \"2d12+5\",\n",
    "    \"3d20+2d6+2\"\n",
    "]"
   ]
  },
  {
   "cell_type": "code",
   "execution_count": 60,
   "metadata": {},
   "outputs": [
    {
     "name": "stdout",
     "output_type": "stream",
     "text": [
      "['2d6']\n",
      "['3d8']\n",
      "['2d12', '5']\n",
      "['3d20', '2d6', '2']\n"
     ]
    },
    {
     "data": {
      "text/plain": [
       "[9, 18, 17, 44]"
      ]
     },
     "execution_count": 60,
     "metadata": {},
     "output_type": "execute_result"
    }
   ],
   "source": [
    "list(map(dice, test_string_list))"
   ]
  },
  {
   "cell_type": "code",
   "execution_count": 57,
   "metadata": {},
   "outputs": [
    {
     "name": "stdout",
     "output_type": "stream",
     "text": [
      "[['2d6'], ['3d8'], ['2d12', '5'], ['3d20', '2d6', '2']]\n",
      "[6]\n",
      "6\n",
      "[10]\n",
      "10\n",
      "[12, 5]\n",
      "17\n",
      "[34, 10, 2]\n",
      "46\n"
     ]
    }
   ],
   "source": [
    "# Split on plus\n",
    "r = [s.split(\"+\") for s in test_string_list]\n",
    "print(r)\n",
    "for i in r:\n",
    "    t = [roll(s) for s in i]\n",
    "    print(t)\n",
    "    print(sum(t))"
   ]
  },
  {
   "cell_type": "code",
   "execution_count": 50,
   "metadata": {
    "collapsed": true
   },
   "outputs": [],
   "source": [
    "def roll(d_string):\n",
    "    if \"d\" in d_string:\n",
    "        rolls, dice = d_string.split(\"d\")\n",
    "        rolls = int(rolls)\n",
    "        dice = int(dice)\n",
    "    \n",
    "        res = [random.randint(1, dice) for i in range(rolls)]\n",
    "    \n",
    "        return sum(res)\n",
    "    else:\n",
    "        return int(d_string)"
   ]
  },
  {
   "cell_type": "code",
   "execution_count": 53,
   "metadata": {},
   "outputs": [
    {
     "data": {
      "text/plain": [
       "3"
      ]
     },
     "execution_count": 53,
     "metadata": {},
     "output_type": "execute_result"
    }
   ],
   "source": [
    "roll(\"3\")"
   ]
  },
  {
   "cell_type": "code",
   "execution_count": 49,
   "metadata": {},
   "outputs": [
    {
     "data": {
      "image/png": "[encoded data removed]",
      "text/plain": [
       "<matplotlib.figure.Figure at 0x10eb7d908>"
      ]
     },
     "metadata": {},
     "output_type": "display_data"
    }
   ],
   "source": [
    "plt.hist([roll(\"2d6\") for i in range(100000)], bins=[2, 3, 4, 5, 6, 7, 8, 9, 10, 11, 12, 13])\n",
    "plt.xlim((0, 14))\n",
    "plt.show()"
   ]
  },
  {
   "cell_type": "code",
   "execution_count": null,
   "metadata": {
    "collapsed": true
   },
   "outputs": [],
   "source": []
  }
 ],
 "metadata": {
  "kernelspec": {
   "display_name": "Python [conda env:nuc]",
   "language": "python",
   "name": "conda-env-nuc-py"
  },
  "language_info": {
   "codemirror_mode": {
    "name": "ipython",
    "version": 3
   },
   "file_extension": ".py",
   "mimetype": "text/x-python",
   "name": "python",
   "nbconvert_exporter": "python",
   "pygments_lexer": "ipython3",
   "version": "3.5.4"
  }
 },
 "nbformat": 4,
 "nbformat_minor": 2
}
